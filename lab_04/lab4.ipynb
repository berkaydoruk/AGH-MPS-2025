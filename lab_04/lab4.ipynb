{
 "cells": [
  {
   "cell_type": "markdown",
   "id": "8064326e",
   "metadata": {},
   "source": [
    "Name: Berkay Doruk\n",
    "\n",
    "Album Number: 409437  \n",
    "\n",
    "Lab no: 4"
   ]
  },
  {
   "cell_type": "markdown",
   "id": "16c9d069",
   "metadata": {},
   "source": [
    "# Advection-Diffusion Problem: Numerical Integration vs. Analytic Solution\n",
    "\n",
    "In this notebook we solve an advection–diffusion problem which models, for example, the transport of a pollutant or a temperature field in a flowing medium. The physical process involves two main effects:\n",
    "\n",
    "- **Advection:** the transport of the substance at the fluid velocity.\n",
    "- **Diffusion:** the spreading of the substance due to molecular motion.\n",
    "\n",
    "We compare a numerical solution obtained by using an upwind scheme with an analytic solution derived under fit assumptions. \n",
    "\n",
    "The analytic solution for a simplified case can be written as:\n",
    "\n",
    "$$\n",
    "c(x,t) = \\frac{1}{\\sqrt{4\\pi D t}}\\exp\\left(-\\frac{(x - ut)^2}{4Dt}\\right)\n",
    "$$\n",
    "\n",
    "where:\n",
    "\n",
    "- $D$ is the diffusion coefficient,\n",
    "- $u$ is the advection (flow) velocity,\n",
    "- $c(x,t)$ is the concentration at position $x$ and time $t$."
   ]
  },
  {
   "cell_type": "code",
   "execution_count": 4,
   "id": "8328fe97",
   "metadata": {},
   "outputs": [
    {
     "name": "stdout",
     "output_type": "stream",
     "text": [
      "CFL number = 0.100\n"
     ]
    }
   ],
   "source": [
    "import numpy as np\n",
    "import matplotlib.pyplot as plt\n",
    "from scipy.stats import norm\n",
    "\n",
    "# Parameters for the advection-diffusion problem\n",
    "L = 10.0         # length of the spatial domain\n",
    "nx = 200         # number of spatial points\n",
    "dx = L / nx      # spatial step\n",
    "x = np.linspace(0, L, nx)\n",
    "\n",
    "u = 1.0          # advection velocity\n",
    "D = 0.1          # diffusion coefficient\n",
    "\n",
    "T = 2.0          # final time\n",
    "dt = 0.005       # time step (choose small enough for stability)\n",
    "nt = int(T/dt)   # number of time steps\n",
    "\n",
    "# CFL condition (for advection) and stability for diffusion should be verified\n",
    "CFL = u * dt / dx\n",
    "print(f\"CFL number = {CFL:.3f}\")"
   ]
  },
  {
   "cell_type": "markdown",
   "id": "0fa6c26e",
   "metadata": {},
   "source": [
    "## Analytic Solution\n",
    "\n",
    "For an initial condition of a narrow Gaussian pulse, an analytic solution for the advection-diffusion equation is given by\n",
    "\n",
    "$$\n",
    "c(x,t) = \\frac{1}{\\sqrt{4\\pi D t}}\\exp\\left(-\\frac{(x - ut - x_0)^2}{4Dt}\\right)\n",
    "$$\n",
    "\n",
    "where $x_0$ is the initial center of the pulse. Here we assume $x_0 = L/2$. This form is valid for $t>0$ and represents the spreading and translation of the pulse."
   ]
  },
  {
   "cell_type": "code",
   "execution_count": 6,
   "id": "058ae02c",
   "metadata": {},
   "outputs": [],
   "source": [
    "def analytic_solution(x, t, u, D, x0):\n",
    "    \"\"\"\n",
    "    Computes the analytic solution of the advection-diffusion equation at time t.\n",
    "    \n",
    "    Parameters:\n",
    "      x: spatial coordinate (array)\n",
    "      t: time (scalar, must be > 0)\n",
    "      u: advection velocity\n",
    "      D: diffusion coefficient\n",
    "      x0: initial pulse center\n",
    "    Returns:\n",
    "      c: analytic solution evaluated at x\n",
    "    \"\"\"\n",
    "    if t <= 0:\n",
    "        raise ValueError(\"t must be > 0 for the analytic solution\")\n",
    "    prefactor = 1.0 / np.sqrt(4 * np.pi * D * t)\n",
    "    exponent = - ((x - u * t - x0) ** 2) / (4 * D * t)\n",
    "    return prefactor * np.exp(exponent)\n",
    "\n",
    "x0 = L / 2\n",
    "c_analytic = analytic_solution(x, T, u, D, x0)"
   ]
  },
  {
   "cell_type": "markdown",
   "id": "aa05f73f",
   "metadata": {},
   "source": [
    "## Numerical Integration Using the Upwind Scheme\n",
    "\n",
    "To numerically solve the advection-diffusion equation we use the following finite difference approximation:\n",
    "\n",
    "$$\n",
    "\\frac{c^{n+1}_i - c^n_i}{\\Delta t} + u \\frac{c^n_i - c^n_{i-1}}{\\Delta x} = D \\frac{c^n_{i+1} - 2c^n_i + c^n_{i-1}}{\\Delta x^2}\n",
    "$$\n",
    "\n",
    "This can be rearranged to update the concentration:\n",
    "\n",
    "$$\n",
    "c^{n+1}_i = c^n_i - u \\frac{\\Delta t}{\\Delta x}(c^n_i - c^n_{i-1}) + D\\frac{\\Delta t}{\\Delta x^2} (c^n_{i+1} - 2c^n_i + c^n_{i-1})\n",
    "$$\n",
    "\n",
    "The scheme uses an upwind difference for the advection term (i.e. it uses the value from the left cell) and a central difference for the diffusion term. We assume an initial condition that is a narrow Gaussian representing a pulse at $x_0$."
   ]
  },
  {
   "cell_type": "code",
   "execution_count": 7,
   "id": "84dd008a",
   "metadata": {},
   "outputs": [
    {
     "name": "stdout",
     "output_type": "stream",
     "text": [
      "Numerical integration completed at t = 2.000\n"
     ]
    }
   ],
   "source": [
    "def initialize_numerical(x, x0, sigma):\n",
    "    \"\"\"\n",
    "    Initializes the concentration field as a Gaussian pulse.\n",
    "    \"\"\"\n",
    "    return np.exp(- (x - x0)**2 / (2 * sigma**2))\n",
    "\n",
    "sigma = 0.2\n",
    "c0 = initialize_numerical(x, x0, sigma)\n",
    "\n",
    "c_numerical = c0.copy()\n",
    "\n",
    "def upwind_step(c, u, D, dt, dx):\n",
    "    \"\"\"\n",
    "    Advances the concentration profile one time step using the upwind scheme.\n",
    "    \"\"\"\n",
    "    c_new = c.copy()\n",
    "    # Use periodic boundary conditions for simplicity\n",
    "    for i in range(len(c)):\n",
    "        im1 = (i - 1) % len(c)  # i-1 with wrap-around\n",
    "        ip1 = (i + 1) % len(c)  # i+1 with wrap-around\n",
    "        advective = - u * (c[i] - c[im1]) / dx\n",
    "        diffusive = D * (c[ip1] - 2*c[i] + c[im1]) / (dx**2)\n",
    "        c_new[i] = c[i] + dt * (advective + diffusive)\n",
    "    return c_new\n",
    "\n",
    "t = 0.0\n",
    "for n in range(nt):\n",
    "    c_numerical = upwind_step(c_numerical, u, D, dt, dx)\n",
    "    t += dt\n",
    "\n",
    "print(f\"Numerical integration completed at t = {t:.3f}\")"
   ]
  },
  {
   "cell_type": "markdown",
   "id": "d2c43307",
   "metadata": {},
   "source": [
    "## Comparison of Numerical and Analytic Solutions\n",
    "\n",
    "We now compare the final numerical solution with the analytic solution at time $T$. The comparison includes:\n",
    "\n",
    "- **Plotting:** The concentration profiles from both methods are plotted on the same figure using vector graphics.\n",
    "- **Quantitative Measure:** We compute the L2 error norm between the numerical and analytic solutions.\n",
    "\n",
    "An example of mathematical notation in our report:\n",
    "\n",
    "$$\n",
    "\\sin\\left( \\frac{2\\pi x}{L} \\right)\n",
    "$$\n",
    "\n",
    "This demonstrates the style of equations used in this analysis."
   ]
  },
  {
   "cell_type": "code",
   "execution_count": 9,
   "id": "fcac50c8",
   "metadata": {},
   "outputs": [
    {
     "name": "stdout",
     "output_type": "stream",
     "text": [
      "L2 error norm: 3.58730e-01\n"
     ]
    },
    {
     "data": {
      "image/png": "[encoded data removed]",
      "text/plain": [
       "<Figure size 800x500 with 1 Axes>"
      ]
     },
     "metadata": {},
     "output_type": "display_data"
    }
   ],
   "source": [
    "# Compute the analytic solution at time T\n",
    "c_analytic = analytic_solution(x, T, u, D, x0)\n",
    "\n",
    "error_L2 = np.sqrt(np.sum((c_numerical - c_analytic)**2) * dx)\n",
    "print(f\"L2 error norm: {error_L2:.5e}\")\n",
    "\n",
    "plt.figure(figsize=(8, 5))\n",
    "plt.plot(x, c_analytic, label='Analytic', linewidth=2)\n",
    "plt.plot(x, c_numerical, '--', label='Numerical (Upwind)', linewidth=2)\n",
    "plt.xlabel('x')\n",
    "plt.ylabel('Concentration c(x,t)')\n",
    "plt.title('Advection-Diffusion: Analytic vs. Numerical Solution')\n",
    "plt.legend()\n",
    "\n",
    "plt.text(8, 0.6, 'Berkay Doruk', style='italic', bbox={'facecolor': 'white', 'alpha': 0.7})\n",
    "\n",
    "plt.savefig('lab_4_comparison_plot.svg', format='svg')\n",
    "plt.show()"
   ]
  },
  {
   "cell_type": "markdown",
   "id": "aef130e0",
   "metadata": {},
   "source": [
    "## Conclusion\n",
    "\n",
    "The advection–diffusion model successfully simulates the transport and spreading of a pulse. Our numerical integration using the upwind scheme shows good lines with the analytic solution. \n",
    "\n",
    "The L2 error norm provides a quantitative measure of this agreement. Although the numerical method introduces some diffusion error, the comparison confirms that the upwind scheme can accurately capture the essential physics when the grid resolution and time step are appropriately chosen.\n",
    "\n",
    "In summary, the analysis demonstrates that the analytic solution can serve as a reference to validate the numerical method, ensuring that the simulation correctly models the key aspects of the physical process."
   ]
  }
 ],
 "metadata": {
  "kernelspec": {
   "display_name": "venv",
   "language": "python",
   "name": "python3"
  },
  "language_info": {
   "codemirror_mode": {
    "name": "ipython",
    "version": 3
   },
   "file_extension": ".py",
   "mimetype": "text/x-python",
   "name": "python",
   "nbconvert_exporter": "python",
   "pygments_lexer": "ipython3",
   "version": "3.13.1"
  }
 },
 "nbformat": 4,
 "nbformat_minor": 5
}
