{
 "cells": [
  {
   "cell_type": "markdown",
   "metadata": {},
   "source": [
    "## LAB: Convergence Analysis of the Upwind Scheme\n",
    "\n",
    "Name: Berkay Doruk\n",
    "\n",
    "Album Number: 4093437\n",
    "\n",
    "Lab no: 3"
   ]
  },
  {
   "cell_type": "markdown",
   "metadata": {},
   "source": [
    "## 1. Introduction\n",
    "\n",
    "This report is to convergence study of the **1D linear advection equation** solved with **upwind scheme**. Our goal is to see how the numerical error decreases as we refine the grid while keeping the Courant number constant. The advection equation is:\n",
    "\n",
    "$$\n",
    "\\frac{\\partial \\phi}{\\partial t} + u \\frac{\\partial \\phi}{\\partial x} = 0,\n",
    "$$\n",
    "\n",
    "and the Courant number is defined as\n",
    "\n",
    "$$\n",
    "C = \\frac{u \\, \\Delta t}{\\Delta x}.\n",
    "$$\n",
    "\n",
    "We choose a value for $C$ between 0 and 1 (excluding 0 and 1) and change the spatial step size\n",
    "\n",
    "$$\n",
    "\\Delta x\n",
    "$$\n",
    "\n",
    "or the time step\n",
    "\n",
    "$$\n",
    "\\Delta t,\n",
    "$$\n",
    "\n",
    "(with $\\Delta t$ adjusted to keep $C$ constant). For each simulation, we calculate the **RMSE** (root-mean-square error) to compare the numerical solution to the analytical solution."
   ]
  },
  {
   "cell_type": "markdown",
   "metadata": {},
   "source": [
    "## 2. Parameter Definitions\n",
    "\n",
    "We define the simulation parameters as follows:\n",
    "\n",
    "- **$u$**: Constant velocity, set to $u = 1.0$, which determines the speed of the wave.\n",
    "- **$L$**: Domain length, set to $L = 1.0$, which specifies the spatial extent.\n",
    "- **$T_{\\text{final}}$**: Final time, set to $T = 0.5$, the time until which the simulation runs.\n",
    "- **`nx_values`**: An array of grid resolutions (e.g., [50, 100, 200, 400]) to test convergence.\n",
    "- **$C$**: Courant number; we will compare three values: $C = 0.5$, $C = 0.7$, and $C = 0.9$.\n",
    "\n",
    "Keeping $C$ constant ensures that the ratio between the time step and spatial step remains fixed across all simulations."
   ]
  },
  {
   "cell_type": "code",
   "execution_count": 13,
   "metadata": {},
   "outputs": [],
   "source": [
    "import numpy as np\n",
    "import matplotlib.pyplot as plt\n",
    "\n",
    "u = 1.0           # Constant velocity\n",
    "L = 1.0           # Domain length\n",
    "T_final = 0.5     # Final time\n",
    "\n",
    "nx_values = [50, 100, 200, 400]  # Different grid resolutions\n",
    "C_values = [0.5, 0.7, 0.9]       # Three Courant numbers to compare"
   ]
  },
  {
   "cell_type": "markdown",
   "metadata": {},
   "source": [
    "## 3. Defining the Initial Condition and Analytical Solution\n",
    "\n",
    "We use a sine wave as the initial condition because it is smooth and periodic, which is ideal for problems with periodic boundary conditions. The analytical solution is obtained by shifting the initial condition by $u \\cdot t$, representing the exact solution of the advection equation.\n",
    "\n",
    "Initial condition:\n",
    "$$\n",
    "\\sin\\left( \\frac{2\\pi x}{L} \\right)\n",
    "$$\n",
    "\n",
    "Analytic solution:\n",
    "$$\n",
    "\\sin\\left(2\\pi\\,\\frac{(x - u\\,t)}{L}\\right)\n",
    "$$"
   ]
  },
  {
   "cell_type": "code",
   "execution_count": 29,
   "metadata": {},
   "outputs": [],
   "source": [
    "def initial_condition(x):\n",
    "    return np.sin(2 * np.pi * x / L)\n",
    "\n",
    "def analytic_solution(x, t):\n",
    "    return np.sin(2 * np.pi * ((x - u * t)) / L)"
   ]
  },
  {
   "cell_type": "markdown",
   "metadata": {},
   "source": [
    "## 4. Upwind Scheme\n",
    "\n",
    "The upwind scheme is a first-order numerical method that updates the solution based on the upstream (left) value, which is well-suited for problems where information flows in one direction. The time step is computed using\n",
    "\n",
    "$$\n",
    "\\Delta t = \\frac{C \\cdot \\Delta x}{u}\n",
    "$$\n",
    "\n",
    "to keep the Courant number constant. We then advance the solution in time until we reach $T_{\\text{final}}$."
   ]
  },
  {
   "cell_type": "code",
   "execution_count": 30,
   "metadata": {},
   "outputs": [],
   "source": [
    "def upwind_scheme(nx, C, T_final):\n",
    "    \"\"\"\n",
    "    Solves the 1D advection equation using the upwind scheme without using a while loop.\n",
    "    \n",
    "    Parameters:\n",
    "    - nx: Number of spatial grid points.\n",
    "    - C: Courant number.\n",
    "    - T_final: Final time.\n",
    "    \n",
    "    Returns:\n",
    "    - x: Spatial grid points.\n",
    "    - phi: Numerical solution at T_final.\n",
    "    - dx: Spatial step size.\n",
    "    \"\"\"\n",
    "    dx = L / nx                 # Spatial step size\n",
    "    dt_initial = C * dx / u       # Initial time step from the Courant number\n",
    "    nsteps = int(np.ceil(T_final / dt_initial))  # Total number of steps (rounded up)\n",
    "    \n",
    "    # Adjust dt so that nsteps * dt equals T_final exactly.\n",
    "    dt = T_final / nsteps         # This may cause a slight deviation in the Courant number.\n",
    "    \n",
    "    x = np.linspace(0, L, nx, endpoint=False)\n",
    "    phi = initial_condition(x)\n",
    "    \n",
    "    # Use a for loop for time stepping\n",
    "    for _ in range(nsteps):\n",
    "        phi = phi - C * (phi - np.roll(phi, 1))\n",
    "        \n",
    "    return x, phi, dx\n"
   ]
  },
  {
   "cell_type": "markdown",
   "metadata": {},
   "source": [
    "## 5. Error Metric\n",
    "\n",
    "To measure the accuracy of our numerical solution, we compute the RMSE between the numerical solution and the analytical solution. This metric indicates the average error over the grid."
   ]
  },
  {
   "cell_type": "code",
   "execution_count": 31,
   "metadata": {},
   "outputs": [],
   "source": [
    "def compute_error(phi_num, x, t):\n",
    "    \"\"\"\n",
    "    Calculates the RMSE error between the numerical solution and the analytic solution.\n",
    "    \"\"\"\n",
    "    phi_exact = analytic_solution(x, t)\n",
    "    error = np.sqrt(np.mean((phi_num - phi_exact) ** 2))\n",
    "    return error"
   ]
  },
  {
   "cell_type": "markdown",
   "metadata": {},
   "source": [
    "## 6. Convergence Analysis for Different Courant Numbers\n",
    "We run the simulation for each Courant number in C_values and for each grid resolution in nx_values. For each simulation, we calculate the RMSE error. This analysis helps us understand how the error behaves as we refine the spatial grid and how it is affected by different values of the Courant number."
   ]
  },
  {
   "cell_type": "code",
   "execution_count": null,
   "metadata": {},
   "outputs": [
    {
     "name": "stdout",
     "output_type": "stream",
     "text": [
      "C: 0.5, nx: 50, dx: 0.0200, RMSE Error: 0.0665\n",
      "C: 0.5, nx: 100, dx: 0.0100, RMSE Error: 0.0341\n",
      "C: 0.5, nx: 200, dx: 0.0050, RMSE Error: 0.0172\n",
      "C: 0.5, nx: 400, dx: 0.0025, RMSE Error: 0.0087\n",
      "C: 0.7, nx: 50, dx: 0.0200, RMSE Error: 0.0447\n",
      "C: 0.7, nx: 100, dx: 0.0100, RMSE Error: 0.0273\n",
      "C: 0.7, nx: 200, dx: 0.0050, RMSE Error: 0.0106\n",
      "C: 0.7, nx: 400, dx: 0.0025, RMSE Error: 0.0057\n",
      "C: 0.9, nx: 50, dx: 0.0200, RMSE Error: 0.0228\n",
      "C: 0.9, nx: 100, dx: 0.0100, RMSE Error: 0.0191\n",
      "C: 0.9, nx: 200, dx: 0.0050, RMSE Error: 0.0181\n",
      "C: 0.9, nx: 400, dx: 0.0025, RMSE Error: 0.0080\n"
     ]
    }
   ],
   "source": [
    "errors_by_C = {}\n",
    "\n",
    "for C in C_values:\n",
    "    dx_list = []      # List to store spatial step sizes\n",
    "    error_list = []   # List to store RMSE errors\n",
    "    \n",
    "    for nx in nx_values:\n",
    "        x, phi_num, dx = upwind_scheme(nx, C, T_final)\n",
    "        error = compute_error(phi_num, x, T_final)\n",
    "        \n",
    "        dx_list.append(dx)\n",
    "        error_list.append(error)\n",
    "        \n",
    "        print(f\"C: {C}, nx: {nx}, dx: {dx:.4f}, RMSE Error: {error:.4f}\")\n",
    "        \n",
    "    errors_by_C[C] = (dx_list, error_list)"
   ]
  },
  {
   "cell_type": "markdown",
   "metadata": {},
   "source": [
    "## 7. Plotting the Results"
   ]
  },
  {
   "cell_type": "code",
   "execution_count": 34,
   "metadata": {},
   "outputs": [
    {
     "data": {
      "image/png": "[encoded data removed]",
      "text/plain": [
       "<Figure size 600x400 with 1 Axes>"
      ]
     },
     "metadata": {},
     "output_type": "display_data"
    }
   ],
   "source": [
    "plt.figure(figsize=(6,4))\n",
    "for C in C_values:\n",
    "    dx_list, error_list = errors_by_C[C]\n",
    "    plt.plot(dx_list, error_list, marker='o', label=f\"$C = {C}$\")\n",
    "\n",
    "plt.xlabel(\"$\\\\Delta x$ (Spatial Step)\")\n",
    "plt.ylabel(\"RMSE Error\")\n",
    "plt.title(\"Convergence Analysis with Upwind Scheme\")\n",
    "plt.legend()\n",
    "plt.grid(True)\n",
    "plt.text(1, 1.05, \"Berkay Doruk\", ha='center', transform=plt.gca().transAxes)\n",
    "plt.show()\n"
   ]
  },
  {
   "cell_type": "markdown",
   "metadata": {},
   "source": [
    "## Conclusion\n",
    "\n",
    "- The plot shows that the RMSE error gets smaller as the spatial step $ \\Delta x $ gets smaller. This means the upwind method is working correctly and gets more accurate on finer grids.\n",
    "- We compared three Courant numbers: $ C = 0.5 $, $ C = 0.7 $, and $ C = 0.9 $.\n",
    "  - For $ C = 0.5 $, the error is higher, especially on coarse grids. But when we use more points (smaller $ \\Delta x $), the error goes down.\n",
    "  - For $ C = 0.7 $, the error is lower than $ C = 0.5 $ and still gets better as we refine the grid.\n",
    "  - For $ C = 0.9 $, the error is already low, even on coarse grids. But it doesnt improve as much when we make the grid finer. It is also closer to the stability limit so the behavior might not always be smooth.\n",
    "- Smaller $ \\Delta x $ gives better results (lower RMSE error), but it also takes more time to compute.\n",
    "- So, we need to find a balance: smaller steps give better accuracy, but take longer to run.\n",
    "- The way the error goes down when we double the number of points shows that the method has first-order accuracy."
   ]
  }
 ],
 "metadata": {
  "kernelspec": {
   "display_name": "venv",
   "language": "python",
   "name": "python3"
  },
  "language_info": {
   "codemirror_mode": {
    "name": "ipython",
    "version": 3
   },
   "file_extension": ".py",
   "mimetype": "text/x-python",
   "name": "python",
   "nbconvert_exporter": "python",
   "pygments_lexer": "ipython3",
   "version": "3.13.1"
  }
 },
 "nbformat": 4,
 "nbformat_minor": 2
}
